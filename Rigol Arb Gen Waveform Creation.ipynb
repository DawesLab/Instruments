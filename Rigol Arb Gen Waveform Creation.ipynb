{
 "cells": [
  {
   "cell_type": "markdown",
   "metadata": {},
   "source": [
    "# Rigol Waveform Creator\n",
    "## Jan 2016\n",
    "This is an updated interface to the DG4102 arb generator. It makes use of the usbtmc python library installed via `dnf install python3-usbtmc`. The basic interface is to create a handle to the instrument and then use `write`, `read`, or `ask` methods on the handle."
   ]
  },
  {
   "cell_type": "code",
   "execution_count": 1,
   "metadata": {
    "collapsed": true
   },
   "outputs": [],
   "source": [
    "import numpy\n",
    "import matplotlib.pyplot as plt\n",
    "import usbtmc\n",
    "%matplotlib inline"
   ]
  },
  {
   "cell_type": "code",
   "execution_count": 2,
   "metadata": {
    "collapsed": false,
    "scrolled": true
   },
   "outputs": [],
   "source": [
    "# this connects to the instrument directly using it's USB ID:\n",
    "handle = usbtmc.Instrument(int(\"1AB1\",16),int(\"0641\",16))"
   ]
  },
  {
   "cell_type": "code",
   "execution_count": 55,
   "metadata": {
    "collapsed": false
   },
   "outputs": [
    {
     "data": {
      "text/plain": [
       "'Rigol Technologies,DG4102,DG4B151400125,00.01.04'"
      ]
     },
     "execution_count": 55,
     "metadata": {},
     "output_type": "execute_result"
    }
   ],
   "source": [
    "# This will probably timeout the first time. Just run it again\n",
    "handle.ask('*IDN?')"
   ]
  },
  {
   "cell_type": "code",
   "execution_count": null,
   "metadata": {
    "collapsed": true
   },
   "outputs": [],
   "source": [
    "# set voltage high\n",
    "handle.write(\":VOLT:HIGH 2.00\")"
   ]
  },
  {
   "cell_type": "code",
   "execution_count": 4,
   "metadata": {
    "collapsed": true
   },
   "outputs": [],
   "source": [
    "handle.write(\":SOUR1:APPL:USER 100,5,2.5,0\")"
   ]
  },
  {
   "cell_type": "code",
   "execution_count": 5,
   "metadata": {
    "collapsed": false
   },
   "outputs": [
    {
     "data": {
      "text/plain": [
       "'5.000000E+00'"
      ]
     },
     "execution_count": 5,
     "metadata": {},
     "output_type": "execute_result"
    }
   ],
   "source": [
    "handle.ask(\":VOLTage:HIGH?\")"
   ]
  },
  {
   "cell_type": "code",
   "execution_count": 6,
   "metadata": {
    "collapsed": false
   },
   "outputs": [
    {
     "data": {
      "text/plain": [
       "'40'"
      ]
     },
     "execution_count": 6,
     "metadata": {},
     "output_type": "execute_result"
    }
   ],
   "source": [
    "handle.ask(\":DATA:POINts? VOLATILE\")"
   ]
  },
  {
   "cell_type": "markdown",
   "metadata": {},
   "source": [
    "Now do some waveform creation:"
   ]
  },
  {
   "cell_type": "code",
   "execution_count": 7,
   "metadata": {
    "collapsed": false
   },
   "outputs": [
    {
     "data": {
      "text/plain": [
       "[<matplotlib.lines.Line2D at 0x7ffb93f052e8>]"
      ]
     },
     "execution_count": 7,
     "metadata": {},
     "output_type": "execute_result"
    },
    {
     "data": {
      "image/png": "[encoded data removed]",
      "text/plain": [
       "<matplotlib.figure.Figure at 0x7ffb9544a320>"
      ]
     },
     "metadata": {},
     "output_type": "display_data"
    }
   ],
   "source": [
    "N = 40\n",
    "x = numpy.array(range(40))\n",
    "data = 0.99*numpy.exp(-((x-20)/4)**2)\n",
    "plt.plot(data,\"o-\")"
   ]
  },
  {
   "cell_type": "code",
   "execution_count": 8,
   "metadata": {
    "collapsed": true
   },
   "outputs": [],
   "source": [
    "handle.write(\":DATA:POINTS VOLATILE,{}\".format(N))"
   ]
  },
  {
   "cell_type": "code",
   "execution_count": 9,
   "metadata": {
    "collapsed": false
   },
   "outputs": [
    {
     "data": {
      "text/plain": [
       "'40'"
      ]
     },
     "execution_count": 9,
     "metadata": {},
     "output_type": "execute_result"
    }
   ],
   "source": [
    "handle.ask(\":DATA:POINTS? VOLATILE\")"
   ]
  },
  {
   "cell_type": "code",
   "execution_count": 29,
   "metadata": {
    "collapsed": false
   },
   "outputs": [
    {
     "name": "stdout",
     "output_type": "stream",
     "text": [
      "1.374906442631438e-11, 1.5734970993571205e-10, 1.5891757746337554e-09, 1.4164169499382011e-08, 1.1140982297206653e-07, 7.7333745142214458e-07, 4.7372662182077183e-06, 2.560941922042758e-05, 0.00012217570604581277, 0.00051437893533329011, 0.0019111495948654321, 0.0062664182732108898, 0.018132482499846836, 0.046302916160119389, 0.10434523231624569, 0.20751527327958683, 0.36420064675972791, 0.56408499648361377, 0.77101277524069078, 0.93001893218534104, 0.98999999999999999, 0.93001893218534104, 0.77101277524069078, 0.56408499648361377, 0.36420064675972791, 0.20751527327958683, 0.10434523231624569, 0.046302916160119389, 0.018132482499846836, 0.0062664182732108898, 0.0019111495948654321, 0.00051437893533329011, 0.00012217570604581277, 2.560941922042758e-05, 4.7372662182077183e-06, 7.7333745142214458e-07, 1.1140982297206653e-07, 1.4164169499382011e-08, 1.5891757746337554e-09, 1.5734970993571205e-10\n"
     ]
    }
   ],
   "source": [
    "datastring = str(list(data))\n",
    "cleandatastring = datastring.lstrip(\"[\").rstrip(\"]\")\n",
    "print(cleandatastring)"
   ]
  },
  {
   "cell_type": "code",
   "execution_count": 56,
   "metadata": {
    "collapsed": false
   },
   "outputs": [],
   "source": [
    "handle.write(\":DATA VOLATILE, \" + cleandatastring + \"\\n\")"
   ]
  },
  {
   "cell_type": "code",
   "execution_count": 12,
   "metadata": {
    "collapsed": true
   },
   "outputs": [],
   "source": [
    "from time import sleep"
   ]
  },
  {
   "cell_type": "code",
   "execution_count": 69,
   "metadata": {
    "collapsed": false
   },
   "outputs": [
    {
     "ename": "USBError",
     "evalue": "[Errno 110] Operation timed out",
     "output_type": "error",
     "traceback": [
      "\u001b[1;31m---------------------------------------------------------------------------\u001b[0m",
      "\u001b[1;31mUSBError\u001b[0m                                  Traceback (most recent call last)",
      "\u001b[1;32m<ipython-input-69-b78420f1e56f>\u001b[0m in \u001b[0;36m<module>\u001b[1;34m()\u001b[0m\n\u001b[0;32m      3\u001b[0m \u001b[1;32mfor\u001b[0m \u001b[0mi\u001b[0m \u001b[1;32min\u001b[0m \u001b[0mrange\u001b[0m\u001b[1;33m(\u001b[0m\u001b[1;36m1\u001b[0m\u001b[1;33m,\u001b[0m\u001b[1;36m38\u001b[0m\u001b[1;33m)\u001b[0m\u001b[1;33m:\u001b[0m\u001b[1;33m\u001b[0m\u001b[0m\n\u001b[0;32m      4\u001b[0m     \u001b[1;31m#sleep(2)\u001b[0m\u001b[1;33m\u001b[0m\u001b[1;33m\u001b[0m\u001b[0m\n\u001b[1;32m----> 5\u001b[1;33m     \u001b[0mwave\u001b[0m\u001b[1;33m.\u001b[0m\u001b[0mappend\u001b[0m\u001b[1;33m(\u001b[0m \u001b[0mhandle\u001b[0m\u001b[1;33m.\u001b[0m\u001b[0mask\u001b[0m\u001b[1;33m(\u001b[0m\u001b[1;34m\":DATA:VALUE? VOLATILE,{}\"\u001b[0m\u001b[1;33m.\u001b[0m\u001b[0mformat\u001b[0m\u001b[1;33m(\u001b[0m\u001b[0mi\u001b[0m\u001b[1;33m)\u001b[0m\u001b[1;33m)\u001b[0m \u001b[1;33m)\u001b[0m\u001b[1;33m\u001b[0m\u001b[0m\n\u001b[0m\u001b[0;32m      6\u001b[0m \u001b[1;33m\u001b[0m\u001b[0m\n\u001b[0;32m      7\u001b[0m \u001b[0mprint\u001b[0m\u001b[1;33m(\u001b[0m\u001b[0mwave\u001b[0m\u001b[1;33m)\u001b[0m\u001b[1;33m\u001b[0m\u001b[0m\n",
      "\u001b[1;32m/usr/lib/python3.4/site-packages/usbtmc/usbtmc.py\u001b[0m in \u001b[0;36mask\u001b[1;34m(self, message, num, encoding)\u001b[0m\n\u001b[0;32m    574\u001b[0m                 \u001b[0mself\u001b[0m\u001b[1;33m.\u001b[0m\u001b[0mlock\u001b[0m\u001b[1;33m(\u001b[0m\u001b[1;33m)\u001b[0m\u001b[1;33m\u001b[0m\u001b[0m\n\u001b[0;32m    575\u001b[0m             \u001b[0mself\u001b[0m\u001b[1;33m.\u001b[0m\u001b[0mwrite\u001b[0m\u001b[1;33m(\u001b[0m\u001b[0mmessage\u001b[0m\u001b[1;33m,\u001b[0m \u001b[0mencoding\u001b[0m\u001b[1;33m)\u001b[0m\u001b[1;33m\u001b[0m\u001b[0m\n\u001b[1;32m--> 576\u001b[1;33m             \u001b[1;32mreturn\u001b[0m \u001b[0mself\u001b[0m\u001b[1;33m.\u001b[0m\u001b[0mread\u001b[0m\u001b[1;33m(\u001b[0m\u001b[0mnum\u001b[0m\u001b[1;33m,\u001b[0m \u001b[0mencoding\u001b[0m\u001b[1;33m)\u001b[0m\u001b[1;33m\u001b[0m\u001b[0m\n\u001b[0m\u001b[0;32m    577\u001b[0m         \u001b[1;32mfinally\u001b[0m\u001b[1;33m:\u001b[0m\u001b[1;33m\u001b[0m\u001b[0m\n\u001b[0;32m    578\u001b[0m             \u001b[1;32mif\u001b[0m \u001b[0mself\u001b[0m\u001b[1;33m.\u001b[0m\u001b[0madvantest_quirk\u001b[0m \u001b[1;32mand\u001b[0m \u001b[1;32mnot\u001b[0m \u001b[0mwas_locked\u001b[0m\u001b[1;33m:\u001b[0m\u001b[1;33m\u001b[0m\u001b[0m\n",
      "\u001b[1;32m/usr/lib/python3.4/site-packages/usbtmc/usbtmc.py\u001b[0m in \u001b[0;36mread\u001b[1;34m(self, num, encoding)\u001b[0m\n\u001b[0;32m    557\u001b[0m     \u001b[1;32mdef\u001b[0m \u001b[0mread\u001b[0m\u001b[1;33m(\u001b[0m\u001b[0mself\u001b[0m\u001b[1;33m,\u001b[0m \u001b[0mnum\u001b[0m\u001b[1;33m=\u001b[0m\u001b[1;33m-\u001b[0m\u001b[1;36m1\u001b[0m\u001b[1;33m,\u001b[0m \u001b[0mencoding\u001b[0m \u001b[1;33m=\u001b[0m \u001b[1;34m'utf-8'\u001b[0m\u001b[1;33m)\u001b[0m\u001b[1;33m:\u001b[0m\u001b[1;33m\u001b[0m\u001b[0m\n\u001b[0;32m    558\u001b[0m         \u001b[1;34m\"Read string from instrument\"\u001b[0m\u001b[1;33m\u001b[0m\u001b[0m\n\u001b[1;32m--> 559\u001b[1;33m         \u001b[1;32mreturn\u001b[0m \u001b[0mself\u001b[0m\u001b[1;33m.\u001b[0m\u001b[0mread_raw\u001b[0m\u001b[1;33m(\u001b[0m\u001b[0mnum\u001b[0m\u001b[1;33m)\u001b[0m\u001b[1;33m.\u001b[0m\u001b[0mdecode\u001b[0m\u001b[1;33m(\u001b[0m\u001b[0mencoding\u001b[0m\u001b[1;33m)\u001b[0m\u001b[1;33m.\u001b[0m\u001b[0mrstrip\u001b[0m\u001b[1;33m(\u001b[0m\u001b[1;34m'\\r\\n'\u001b[0m\u001b[1;33m)\u001b[0m\u001b[1;33m\u001b[0m\u001b[0m\n\u001b[0m\u001b[0;32m    560\u001b[0m \u001b[1;33m\u001b[0m\u001b[0m\n\u001b[0;32m    561\u001b[0m     \u001b[1;32mdef\u001b[0m \u001b[0mask\u001b[0m\u001b[1;33m(\u001b[0m\u001b[0mself\u001b[0m\u001b[1;33m,\u001b[0m \u001b[0mmessage\u001b[0m\u001b[1;33m,\u001b[0m \u001b[0mnum\u001b[0m\u001b[1;33m=\u001b[0m\u001b[1;33m-\u001b[0m\u001b[1;36m1\u001b[0m\u001b[1;33m,\u001b[0m \u001b[0mencoding\u001b[0m \u001b[1;33m=\u001b[0m \u001b[1;34m'utf-8'\u001b[0m\u001b[1;33m)\u001b[0m\u001b[1;33m:\u001b[0m\u001b[1;33m\u001b[0m\u001b[0m\n",
      "\u001b[1;32m/usr/lib/python3.4/site-packages/usbtmc/usbtmc.py\u001b[0m in \u001b[0;36mread_raw\u001b[1;34m(self, num)\u001b[0m\n\u001b[0;32m    506\u001b[0m             \u001b[0mself\u001b[0m\u001b[1;33m.\u001b[0m\u001b[0mbulk_out_ep\u001b[0m\u001b[1;33m.\u001b[0m\u001b[0mwrite\u001b[0m\u001b[1;33m(\u001b[0m\u001b[0mreq\u001b[0m\u001b[1;33m)\u001b[0m\u001b[1;33m\u001b[0m\u001b[0m\n\u001b[0;32m    507\u001b[0m \u001b[1;33m\u001b[0m\u001b[0m\n\u001b[1;32m--> 508\u001b[1;33m             \u001b[0mresp\u001b[0m \u001b[1;33m=\u001b[0m \u001b[0mself\u001b[0m\u001b[1;33m.\u001b[0m\u001b[0mbulk_in_ep\u001b[0m\u001b[1;33m.\u001b[0m\u001b[0mread\u001b[0m\u001b[1;33m(\u001b[0m\u001b[0mread_len\u001b[0m\u001b[1;33m+\u001b[0m\u001b[0mUSBTMC_HEADER_SIZE\u001b[0m\u001b[1;33m+\u001b[0m\u001b[1;36m3\u001b[0m\u001b[1;33m,\u001b[0m \u001b[0mtimeout\u001b[0m \u001b[1;33m=\u001b[0m \u001b[0mself\u001b[0m\u001b[1;33m.\u001b[0m\u001b[0mtimeout\u001b[0m\u001b[1;33m)\u001b[0m\u001b[1;33m\u001b[0m\u001b[0m\n\u001b[0m\u001b[0;32m    509\u001b[0m \u001b[1;33m\u001b[0m\u001b[0m\n\u001b[0;32m    510\u001b[0m             \u001b[1;32mif\u001b[0m \u001b[0msys\u001b[0m\u001b[1;33m.\u001b[0m\u001b[0mversion_info\u001b[0m \u001b[1;33m>=\u001b[0m \u001b[1;33m(\u001b[0m\u001b[1;36m3\u001b[0m\u001b[1;33m,\u001b[0m \u001b[1;36m0\u001b[0m\u001b[1;33m)\u001b[0m\u001b[1;33m:\u001b[0m\u001b[1;33m\u001b[0m\u001b[0m\n",
      "\u001b[1;32m/usr/lib/python3.4/site-packages/usb/core.py\u001b[0m in \u001b[0;36mread\u001b[1;34m(self, size_or_buffer, timeout)\u001b[0m\n\u001b[0;32m    362\u001b[0m         \u001b[0mFor\u001b[0m \u001b[0mdetails\u001b[0m\u001b[1;33m,\u001b[0m \u001b[0msee\u001b[0m \u001b[0mthe\u001b[0m \u001b[0mDevice\u001b[0m\u001b[1;33m.\u001b[0m\u001b[0mread\u001b[0m\u001b[1;33m(\u001b[0m\u001b[1;33m)\u001b[0m \u001b[0mmethod\u001b[0m\u001b[1;33m.\u001b[0m\u001b[1;33m\u001b[0m\u001b[0m\n\u001b[0;32m    363\u001b[0m         \"\"\"\n\u001b[1;32m--> 364\u001b[1;33m         \u001b[1;32mreturn\u001b[0m \u001b[0mself\u001b[0m\u001b[1;33m.\u001b[0m\u001b[0mdevice\u001b[0m\u001b[1;33m.\u001b[0m\u001b[0mread\u001b[0m\u001b[1;33m(\u001b[0m\u001b[0mself\u001b[0m\u001b[1;33m,\u001b[0m \u001b[0msize_or_buffer\u001b[0m\u001b[1;33m,\u001b[0m \u001b[0mtimeout\u001b[0m\u001b[1;33m)\u001b[0m\u001b[1;33m\u001b[0m\u001b[0m\n\u001b[0m\u001b[0;32m    365\u001b[0m \u001b[1;33m\u001b[0m\u001b[0m\n\u001b[0;32m    366\u001b[0m     \u001b[1;32mdef\u001b[0m \u001b[0mclear_halt\u001b[0m\u001b[1;33m(\u001b[0m\u001b[0mself\u001b[0m\u001b[1;33m)\u001b[0m\u001b[1;33m:\u001b[0m\u001b[1;33m\u001b[0m\u001b[0m\n",
      "\u001b[1;32m/usr/lib/python3.4/site-packages/usb/core.py\u001b[0m in \u001b[0;36mread\u001b[1;34m(self, endpoint, size_or_buffer, timeout)\u001b[0m\n\u001b[0;32m    916\u001b[0m                 \u001b[0mintf\u001b[0m\u001b[1;33m.\u001b[0m\u001b[0mbInterfaceNumber\u001b[0m\u001b[1;33m,\u001b[0m\u001b[1;33m\u001b[0m\u001b[0m\n\u001b[0;32m    917\u001b[0m                 \u001b[0mbuff\u001b[0m\u001b[1;33m,\u001b[0m\u001b[1;33m\u001b[0m\u001b[0m\n\u001b[1;32m--> 918\u001b[1;33m                 self.__get_timeout(timeout))\n\u001b[0m\u001b[0;32m    919\u001b[0m \u001b[1;33m\u001b[0m\u001b[0m\n\u001b[0;32m    920\u001b[0m         \u001b[1;32mif\u001b[0m \u001b[0misinstance\u001b[0m\u001b[1;33m(\u001b[0m\u001b[0msize_or_buffer\u001b[0m\u001b[1;33m,\u001b[0m \u001b[0marray\u001b[0m\u001b[1;33m.\u001b[0m\u001b[0marray\u001b[0m\u001b[1;33m)\u001b[0m\u001b[1;33m:\u001b[0m\u001b[1;33m\u001b[0m\u001b[0m\n",
      "\u001b[1;32m/usr/lib/python3.4/site-packages/usb/backend/libusb1.py\u001b[0m in \u001b[0;36mbulk_read\u001b[1;34m(self, dev_handle, ep, intf, buff, timeout)\u001b[0m\n\u001b[0;32m    767\u001b[0m                            \u001b[0mintf\u001b[0m\u001b[1;33m,\u001b[0m\u001b[1;33m\u001b[0m\u001b[0m\n\u001b[0;32m    768\u001b[0m                            \u001b[0mbuff\u001b[0m\u001b[1;33m,\u001b[0m\u001b[1;33m\u001b[0m\u001b[0m\n\u001b[1;32m--> 769\u001b[1;33m                            timeout)\n\u001b[0m\u001b[0;32m    770\u001b[0m \u001b[1;33m\u001b[0m\u001b[0m\n\u001b[0;32m    771\u001b[0m     \u001b[1;33m@\u001b[0m\u001b[0mmethodtrace\u001b[0m\u001b[1;33m(\u001b[0m\u001b[0m_logger\u001b[0m\u001b[1;33m)\u001b[0m\u001b[1;33m\u001b[0m\u001b[0m\n",
      "\u001b[1;32m/usr/lib/python3.4/site-packages/usb/backend/libusb1.py\u001b[0m in \u001b[0;36m__read\u001b[1;34m(self, fn, dev_handle, ep, intf, buff, timeout)\u001b[0m\n\u001b[0;32m    870\u001b[0m         \u001b[1;31m# do not assume LIBUSB_ERROR_TIMEOUT means no I/O.\u001b[0m\u001b[1;33m\u001b[0m\u001b[1;33m\u001b[0m\u001b[0m\n\u001b[0;32m    871\u001b[0m         \u001b[1;32mif\u001b[0m \u001b[1;32mnot\u001b[0m \u001b[1;33m(\u001b[0m\u001b[0mtransferred\u001b[0m\u001b[1;33m.\u001b[0m\u001b[0mvalue\u001b[0m \u001b[1;32mand\u001b[0m \u001b[0mretval\u001b[0m \u001b[1;33m==\u001b[0m \u001b[0mLIBUSB_ERROR_TIMEOUT\u001b[0m\u001b[1;33m)\u001b[0m\u001b[1;33m:\u001b[0m\u001b[1;33m\u001b[0m\u001b[0m\n\u001b[1;32m--> 872\u001b[1;33m             \u001b[0m_check\u001b[0m\u001b[1;33m(\u001b[0m\u001b[0mretval\u001b[0m\u001b[1;33m)\u001b[0m\u001b[1;33m\u001b[0m\u001b[0m\n\u001b[0m\u001b[0;32m    873\u001b[0m         \u001b[1;32mreturn\u001b[0m \u001b[0mtransferred\u001b[0m\u001b[1;33m.\u001b[0m\u001b[0mvalue\u001b[0m\u001b[1;33m\u001b[0m\u001b[0m\n\u001b[0;32m    874\u001b[0m \u001b[1;33m\u001b[0m\u001b[0m\n",
      "\u001b[1;32m/usr/lib/python3.4/site-packages/usb/backend/libusb1.py\u001b[0m in \u001b[0;36m_check\u001b[1;34m(ret)\u001b[0m\n\u001b[0;32m    550\u001b[0m             \u001b[1;32mraise\u001b[0m \u001b[0mNotImplementedError\u001b[0m\u001b[1;33m(\u001b[0m\u001b[0m_strerror\u001b[0m\u001b[1;33m(\u001b[0m\u001b[0mret\u001b[0m\u001b[1;33m)\u001b[0m\u001b[1;33m)\u001b[0m\u001b[1;33m\u001b[0m\u001b[0m\n\u001b[0;32m    551\u001b[0m         \u001b[1;32melse\u001b[0m\u001b[1;33m:\u001b[0m\u001b[1;33m\u001b[0m\u001b[0m\n\u001b[1;32m--> 552\u001b[1;33m             \u001b[1;32mraise\u001b[0m \u001b[0mUSBError\u001b[0m\u001b[1;33m(\u001b[0m\u001b[0m_strerror\u001b[0m\u001b[1;33m(\u001b[0m\u001b[0mret\u001b[0m\u001b[1;33m)\u001b[0m\u001b[1;33m,\u001b[0m \u001b[0mret\u001b[0m\u001b[1;33m,\u001b[0m \u001b[0m_libusb_errno\u001b[0m\u001b[1;33m[\u001b[0m\u001b[0mret\u001b[0m\u001b[1;33m]\u001b[0m\u001b[1;33m)\u001b[0m\u001b[1;33m\u001b[0m\u001b[0m\n\u001b[0m\u001b[0;32m    553\u001b[0m \u001b[1;33m\u001b[0m\u001b[0m\n\u001b[0;32m    554\u001b[0m     \u001b[1;32mreturn\u001b[0m \u001b[0mret\u001b[0m\u001b[1;33m\u001b[0m\u001b[0m\n",
      "\u001b[1;31mUSBError\u001b[0m: [Errno 110] Operation timed out"
     ]
    }
   ],
   "source": [
    "# For some reason, it can only pull 38 values.\n",
    "wave = []\n",
    "for i in range(1,38):\n",
    "    #sleep(2)\n",
    "    wave.append( handle.ask(\":DATA:VALUE? VOLATILE,{}\".format(i)) )\n",
    "    \n",
    "print(wave)\n",
    "plt.plot(wave,\"o-\")"
   ]
  },
  {
   "cell_type": "code",
   "execution_count": null,
   "metadata": {
    "collapsed": false
   },
   "outputs": [],
   "source": []
  },
  {
   "cell_type": "markdown",
   "metadata": {},
   "source": [
    "## Now to reverse engineer the VCA response:"
   ]
  },
  {
   "cell_type": "code",
   "execution_count": 36,
   "metadata": {
    "collapsed": true
   },
   "outputs": [],
   "source": [
    "def VfromI(Intensity):\n",
    "    \"\"\"Implement the inverted response function. See data fit in google drive AOM folder.\"\"\"\n",
    "    V = (.0039757327 + (.0039757327 ** 2 + 4 *.0078826605 * Intensity) ** (1/2))/(2*.0078826605)\n",
    "    return V"
   ]
  },
  {
   "cell_type": "code",
   "execution_count": 112,
   "metadata": {
    "collapsed": false
   },
   "outputs": [
    {
     "data": {
      "text/plain": [
       "array([ 0.04400391,  0.04400391,  0.04400394,  0.04400422,  0.04400635,\n",
       "        0.04402087,  0.04410762,  0.0445589 ,  0.04653897,  0.05331964,\n",
       "        0.07026781,  0.10284296,  0.15614279,  0.23459692,  0.34019267,\n",
       "        0.47018914,  0.61544563,  0.76037465,  0.88514423,  0.96992563,\n",
       "        1.        ,  0.96992563,  0.88514423,  0.76037465,  0.61544563,\n",
       "        0.47018914,  0.34019267,  0.23459692,  0.15614279,  0.10284296,\n",
       "        0.07026781,  0.05331964,  0.04653897,  0.0445589 ,  0.04410762,\n",
       "        0.04402087,  0.04400635,  0.04400422,  0.04400394,  0.04400391])"
      ]
     },
     "execution_count": 112,
     "metadata": {},
     "output_type": "execute_result"
    }
   ],
   "source": [
    "voltages = VfromI(data)\n",
    "floats = voltages/voltages.max() # values scaled to 0-1.0\n",
    "floats"
   ]
  },
  {
   "cell_type": "code",
   "execution_count": 115,
   "metadata": {
    "collapsed": false
   },
   "outputs": [],
   "source": [
    "handle.write(\":DATA:POINTS VOLATILE,40\")"
   ]
  },
  {
   "cell_type": "code",
   "execution_count": 122,
   "metadata": {
    "collapsed": false
   },
   "outputs": [
    {
     "data": {
      "text/plain": [
       "40"
      ]
     },
     "execution_count": 122,
     "metadata": {},
     "output_type": "execute_result"
    }
   ],
   "source": [
    "numPoints = int(handle.ask(\":DATA:POINTS? VOLATILE\"))\n",
    "numPoints"
   ]
  },
  {
   "cell_type": "code",
   "execution_count": 123,
   "metadata": {
    "collapsed": false
   },
   "outputs": [
    {
     "name": "stdout",
     "output_type": "stream",
     "text": [
      ":DATA:VAL VOLATILE,1,648\n",
      "647\n",
      ":DATA:VAL VOLATILE,2,648\n",
      "647\n",
      ":DATA:VAL VOLATILE,3,648\n",
      "647\n",
      ":DATA:VAL VOLATILE,4,648\n",
      "647\n",
      ":DATA:VAL VOLATILE,5,649\n",
      "648\n",
      ":DATA:VAL VOLATILE,6,650\n",
      "649\n",
      ":DATA:VAL VOLATILE,7,657\n",
      "656\n",
      ":DATA:VAL VOLATILE,8,686\n",
      "685\n",
      ":DATA:VAL VOLATILE,9,786\n",
      "786\n",
      ":DATA:VAL VOLATILE,10,1036\n",
      "1036\n",
      ":DATA:VAL VOLATILE,11,1516\n",
      "1515\n",
      ":DATA:VAL VOLATILE,12,2302\n",
      "2301\n",
      ":DATA:VAL VOLATILE,13,3459\n",
      "3459\n",
      ":DATA:VAL VOLATILE,14,5016\n",
      "5016\n",
      ":DATA:VAL VOLATILE,15,6932\n",
      "6932\n",
      ":DATA:VAL VOLATILE,16,9074\n",
      "9074\n",
      ":DATA:VAL VOLATILE,17,11211\n",
      "11210\n",
      ":DATA:VAL VOLATILE,18,13051\n",
      "13051\n",
      ":DATA:VAL VOLATILE,19,14301\n",
      "14301\n",
      ":DATA:VAL VOLATILE,20,14744\n",
      "14744\n",
      ":DATA:VAL VOLATILE,21,14301\n",
      "14301\n",
      ":DATA:VAL VOLATILE,22,13051\n",
      "13051\n",
      ":DATA:VAL VOLATILE,23,11211\n",
      "11210\n",
      ":DATA:VAL VOLATILE,24,9074\n",
      "9074\n",
      ":DATA:VAL VOLATILE,25,6932\n",
      "6932\n",
      ":DATA:VAL VOLATILE,26,5016\n",
      "5016\n",
      ":DATA:VAL VOLATILE,27,3459\n",
      "3459\n",
      ":DATA:VAL VOLATILE,28,2302\n",
      "2301\n",
      ":DATA:VAL VOLATILE,29,1516\n",
      "1515\n",
      ":DATA:VAL VOLATILE,30,1036\n",
      "1036\n",
      ":DATA:VAL VOLATILE,31,786\n",
      "786\n",
      ":DATA:VAL VOLATILE,32,686\n",
      "685\n",
      ":DATA:VAL VOLATILE,33,657\n",
      "656\n",
      ":DATA:VAL VOLATILE,34,650\n",
      "649\n",
      ":DATA:VAL VOLATILE,35,649\n",
      "648\n",
      ":DATA:VAL VOLATILE,36,648\n",
      "647\n",
      ":DATA:VAL VOLATILE,37,648\n",
      "647\n",
      ":DATA:VAL VOLATILE,38,648\n",
      "647\n"
     ]
    }
   ],
   "source": [
    "for i in range(1,len(floats)-1):\n",
    "    command_string = \":DATA:VAL VOLATILE,\" + str(i) + \",\" + str(int(0.9*16383*floats[i]))\n",
    "    check_string = \":DATA:VAL? VOLATILE,\" + str(i)\n",
    "    print(command_string)\n",
    "    handle.write(command_string)\n",
    "    print(handle.ask(check_string))"
   ]
  },
  {
   "cell_type": "code",
   "execution_count": 124,
   "metadata": {
    "collapsed": false
   },
   "outputs": [
    {
     "name": "stdout",
     "output_type": "stream",
     "text": [
      "['647', '647', '647', '647', '648', '649', '656', '685', '786', '1036', '1515', '2301', '3459', '5016', '6932', '9074', '11210', '13051', '14301', '14744', '14301', '13051', '11210', '9074', '6932', '5016', '3459', '2301', '1515', '1036', '786', '685', '656', '649', '648', '647', '647', '647', '0']\n"
     ]
    },
    {
     "data": {
      "text/plain": [
       "[<matplotlib.lines.Line2D at 0x7ffb91715c18>]"
      ]
     },
     "execution_count": 124,
     "metadata": {},
     "output_type": "execute_result"
    },
    {
     "data": {
      "image/png": "[encoded data removed]",
      "text/plain": [
       "<matplotlib.figure.Figure at 0x7ffb918245c0>"
      ]
     },
     "metadata": {},
     "output_type": "display_data"
    }
   ],
   "source": [
    "# Check what the instrument memory holds\n",
    "# For some reason, it can only pull 38 values.\n",
    "wave = []\n",
    "for i in range(1,numPoints):\n",
    "    #sleep(0.2)\n",
    "    wave.append( handle.ask(\":DATA:VALUE? VOLATILE,{}\".format(i)) )\n",
    "    \n",
    "print(wave)\n",
    "plt.plot(wave,\"o-\")"
   ]
  },
  {
   "cell_type": "markdown",
   "metadata": {},
   "source": [
    "## TODO: the VfromI function gives voltage, we need to scale this before uploading to Arb."
   ]
  },
  {
   "cell_type": "code",
   "execution_count": null,
   "metadata": {
    "collapsed": true
   },
   "outputs": [],
   "source": [
    "handle.close()"
   ]
  },
  {
   "cell_type": "code",
   "execution_count": null,
   "metadata": {
    "collapsed": true
   },
   "outputs": [],
   "source": []
  }
 ],
 "metadata": {
  "kernelspec": {
   "display_name": "Python 3",
   "language": "python",
   "name": "python3"
  },
  "language_info": {
   "codemirror_mode": {
    "name": "ipython",
    "version": 3
   },
   "file_extension": ".py",
   "mimetype": "text/x-python",
   "name": "python",
   "nbconvert_exporter": "python",
   "pygments_lexer": "ipython3",
   "version": "3.4.3"
  }
 },
 "nbformat": 4,
 "nbformat_minor": 0
}
