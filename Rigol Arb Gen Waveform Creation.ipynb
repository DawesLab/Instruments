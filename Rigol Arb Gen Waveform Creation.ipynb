{
 "cells": [
  {
   "cell_type": "markdown",
   "metadata": {},
   "source": [
    "# Rigol Waveform Creator\n",
    "## Jan 2016\n",
    "This is an updated interface to the DG4102 arb generator. It makes use of the usbtmc python library installed via `dnf install python3-usbtmc`. The basic interface is to create a handle to the instrument and then use `write`, `read`, or `ask` methods on the handle."
   ]
  },
  {
   "cell_type": "code",
   "execution_count": 1,
   "metadata": {
    "collapsed": true
   },
   "outputs": [],
   "source": [
    "import numpy\n",
    "import matplotlib.pyplot as plt\n",
    "import usbtmc\n",
    "%matplotlib inline"
   ]
  },
  {
   "cell_type": "code",
   "execution_count": 2,
   "metadata": {
    "collapsed": false,
    "scrolled": true
   },
   "outputs": [],
   "source": [
    "# this connects to the instrument directly using it's USB ID:\n",
    "handle = usbtmc.Instrument(int(\"1AB1\",16),int(\"0641\",16))"
   ]
  },
  {
   "cell_type": "code",
   "execution_count": 4,
   "metadata": {
    "collapsed": false
   },
   "outputs": [
    {
     "data": {
      "text/plain": [
       "'Rigol Technologies,DG4102,DG4B151400125,00.01.04'"
      ]
     },
     "execution_count": 4,
     "metadata": {},
     "output_type": "execute_result"
    }
   ],
   "source": [
    "# This will probably timeout the first time. Just run it again\n",
    "handle.ask('*IDN?')"
   ]
  },
  {
   "cell_type": "code",
   "execution_count": 5,
   "metadata": {
    "collapsed": true
   },
   "outputs": [],
   "source": [
    "# set voltage high\n",
    "handle.write(\":VOLT:HIGH 2.00\")"
   ]
  },
  {
   "cell_type": "code",
   "execution_count": 9,
   "metadata": {
    "collapsed": true
   },
   "outputs": [],
   "source": [
    "handle.write(\":SOUR1:APPL:USER 100,10,5,0\")"
   ]
  },
  {
   "cell_type": "markdown",
   "metadata": {},
   "source": [
    "Now do some waveform creation:"
   ]
  },
  {
   "cell_type": "code",
   "execution_count": 11,
   "metadata": {
    "collapsed": false
   },
   "outputs": [
    {
     "data": {
      "text/plain": [
       "[<matplotlib.lines.Line2D at 0x7f20b8d5b358>]"
      ]
     },
     "execution_count": 11,
     "metadata": {},
     "output_type": "execute_result"
    },
    {
     "data": {
      "image/png": "[encoded data removed]",
      "text/plain": [
       "<matplotlib.figure.Figure at 0x7f20ba2a1470>"
      ]
     },
     "metadata": {},
     "output_type": "display_data"
    }
   ],
   "source": [
    "N = 40\n",
    "x = numpy.array(range(40))\n",
    "data = 0.99*numpy.exp(-((x-20)/4)**2)\n",
    "plt.plot(data,\"o-\")"
   ]
  },
  {
   "cell_type": "code",
   "execution_count": 12,
   "metadata": {
    "collapsed": true
   },
   "outputs": [],
   "source": [
    "handle.write(\":DATA:POINTS VOLATILE,{}\".format(N))"
   ]
  },
  {
   "cell_type": "code",
   "execution_count": 13,
   "metadata": {
    "collapsed": false
   },
   "outputs": [
    {
     "data": {
      "text/plain": [
       "'40'"
      ]
     },
     "execution_count": 13,
     "metadata": {},
     "output_type": "execute_result"
    }
   ],
   "source": [
    "handle.ask(\":DATA:POINTS? VOLATILE\")"
   ]
  },
  {
   "cell_type": "markdown",
   "metadata": {},
   "source": [
    "## Now to reverse engineer the VCA response:"
   ]
  },
  {
   "cell_type": "code",
   "execution_count": 14,
   "metadata": {
    "collapsed": true
   },
   "outputs": [],
   "source": [
    "def VfromI(Intensity):\n",
    "    \"\"\"Implement the inverted response function. See data fit in google drive AOM folder.\"\"\"\n",
    "    V = (.0039757327 + (.0039757327 ** 2 + 4 *.0078826605 * Intensity) ** (1/2))/(2*.0078826605)\n",
    "    return V"
   ]
  },
  {
   "cell_type": "code",
   "execution_count": 15,
   "metadata": {
    "collapsed": false
   },
   "outputs": [
    {
     "data": {
      "text/plain": [
       "array([ 0.04400391,  0.04400391,  0.04400394,  0.04400422,  0.04400635,\n",
       "        0.04402087,  0.04410762,  0.0445589 ,  0.04653897,  0.05331964,\n",
       "        0.07026781,  0.10284296,  0.15614279,  0.23459692,  0.34019267,\n",
       "        0.47018914,  0.61544563,  0.76037465,  0.88514423,  0.96992563,\n",
       "        1.        ,  0.96992563,  0.88514423,  0.76037465,  0.61544563,\n",
       "        0.47018914,  0.34019267,  0.23459692,  0.15614279,  0.10284296,\n",
       "        0.07026781,  0.05331964,  0.04653897,  0.0445589 ,  0.04410762,\n",
       "        0.04402087,  0.04400635,  0.04400422,  0.04400394,  0.04400391])"
      ]
     },
     "execution_count": 15,
     "metadata": {},
     "output_type": "execute_result"
    }
   ],
   "source": [
    "voltages = VfromI(data)\n",
    "floats = voltages/voltages.max() # values scaled to 0-1.0\n",
    "floats"
   ]
  },
  {
   "cell_type": "code",
   "execution_count": 16,
   "metadata": {
    "collapsed": false
   },
   "outputs": [],
   "source": [
    "handle.write(\":DATA:POINTS VOLATILE,40\")"
   ]
  },
  {
   "cell_type": "code",
   "execution_count": 17,
   "metadata": {
    "collapsed": false
   },
   "outputs": [
    {
     "data": {
      "text/plain": [
       "40"
      ]
     },
     "execution_count": 17,
     "metadata": {},
     "output_type": "execute_result"
    }
   ],
   "source": [
    "numPoints = int(handle.ask(\":DATA:POINTS? VOLATILE\"))\n",
    "numPoints"
   ]
  },
  {
   "cell_type": "code",
   "execution_count": 22,
   "metadata": {
    "collapsed": false
   },
   "outputs": [],
   "source": [
    "for i in range(len(floats)):\n",
    "    command_string = \":DATA:VAL VOLATILE,\" + str(i+1) + \",\" + str(int(0.9*16383*floats[i]))\n",
    "    check_string = \":DATA:VAL? VOLATILE,\" + str(i+1)\n",
    "    #print(command_string)\n",
    "    handle.write(command_string)\n",
    "    #print(handle.ask(check_string))"
   ]
  },
  {
   "cell_type": "code",
   "execution_count": 23,
   "metadata": {
    "collapsed": false
   },
   "outputs": [
    {
     "name": "stdout",
     "output_type": "stream",
     "text": [
      "['647', '647', '647', '647', '647', '648', '649', '656', '685', '786', '1036', '1515', '2302', '3459', '5016', '6932', '9074', '11210', '13051', '14301', '14744', '14301', '13051', '11210', '9074', '6932', '5016', '3459', '2302', '1515', '1036', '786', '685', '656', '649', '648', '647', '647', '647', '647']\n",
      "40\n"
     ]
    },
    {
     "data": {
      "text/plain": [
       "[<matplotlib.lines.Line2D at 0x7f20b6ae9940>]"
      ]
     },
     "execution_count": 23,
     "metadata": {},
     "output_type": "execute_result"
    },
    {
     "data": {
      "image/png": "[encoded data removed]",
      "text/plain": [
       "<matplotlib.figure.Figure at 0x7f20b8d30a90>"
      ]
     },
     "metadata": {},
     "output_type": "display_data"
    }
   ],
   "source": [
    "# Check what the instrument memory holds\n",
    "# For some reason, it can only pull 38 values.\n",
    "wave = []\n",
    "# add 1 to numPoints to account for range function\n",
    "for i in range(1,numPoints+1):\n",
    "    #sleep(0.2)\n",
    "    wave.append( handle.ask(\":DATA:VALUE? VOLATILE,{}\".format(i)) )\n",
    "    \n",
    "print(wave)\n",
    "print(len(wave))\n",
    "plt.plot(wave,\"o-\")"
   ]
  },
  {
   "cell_type": "code",
   "execution_count": null,
   "metadata": {
    "collapsed": true
   },
   "outputs": [],
   "source": [
    "handle.close()"
   ]
  },
  {
   "cell_type": "code",
   "execution_count": null,
   "metadata": {
    "collapsed": true
   },
   "outputs": [],
   "source": []
  }
 ],
 "metadata": {
  "kernelspec": {
   "display_name": "Python 3",
   "language": "python",
   "name": "python3"
  },
  "language_info": {
   "codemirror_mode": {
    "name": "ipython",
    "version": 3
   },
   "file_extension": ".py",
   "mimetype": "text/x-python",
   "name": "python",
   "nbconvert_exporter": "python",
   "pygments_lexer": "ipython3",
   "version": "3.4.3"
  }
 },
 "nbformat": 4,
 "nbformat_minor": 0
}
