{
 "cells": [
  {
   "cell_type": "markdown",
   "metadata": {},
   "source": [
    "# Rigol Waveform Creator\n",
    "## Jan 2016\n",
    "This is an updated interface to the DG4102 arb generator. It makes use of the usbtmc python library installed via `dnf install python3-usbtmc`. The basic interface is to create a handle to the instrument and then use `write`, `read`, or `ask` methods on the handle."
   ]
  },
  {
   "cell_type": "code",
   "execution_count": 1,
   "metadata": {
    "collapsed": true
   },
   "outputs": [],
   "source": [
    "import numpy\n",
    "import matplotlib.pyplot as plt\n",
    "import usbtmc\n",
    "%matplotlib inline"
   ]
  },
  {
   "cell_type": "code",
   "execution_count": 2,
   "metadata": {
    "collapsed": false,
    "scrolled": true
   },
   "outputs": [],
   "source": [
    "# this connects to the instrument directly using it's USB ID:\n",
    "handle = usbtmc.Instrument(int(\"1AB1\",16),int(\"0641\",16))"
   ]
  },
  {
   "cell_type": "code",
   "execution_count": 3,
   "metadata": {
    "collapsed": false
   },
   "outputs": [
    {
     "data": {
      "text/plain": [
       "'Rigol Technologies,DG4102,DG4B151400125,00.01.04'"
      ]
     },
     "execution_count": 3,
     "metadata": {},
     "output_type": "execute_result"
    }
   ],
   "source": [
    "# This will probably timeout the first time. Just run it again\n",
    "handle.ask('*IDN?')"
   ]
  },
  {
   "cell_type": "code",
   "execution_count": 4,
   "metadata": {
    "collapsed": true
   },
   "outputs": [],
   "source": [
    "# set voltage high\n",
    "handle.write(\":VOLT:HIGH 2.00\")"
   ]
  },
  {
   "cell_type": "code",
   "execution_count": 24,
   "metadata": {
    "collapsed": true
   },
   "outputs": [],
   "source": [
    "handle.write(\":SOUR1:APPL:USER 100,5,2.5,0\")"
   ]
  },
  {
   "cell_type": "code",
   "execution_count": 28,
   "metadata": {
    "collapsed": false
   },
   "outputs": [
    {
     "data": {
      "text/plain": [
       "'2.000000E+00'"
      ]
     },
     "execution_count": 28,
     "metadata": {},
     "output_type": "execute_result"
    }
   ],
   "source": [
    "handle.ask(\":VOLTage:HIGH?\")"
   ]
  },
  {
   "cell_type": "code",
   "execution_count": 31,
   "metadata": {
    "collapsed": false
   },
   "outputs": [
    {
     "data": {
      "text/plain": [
       "'40'"
      ]
     },
     "execution_count": 31,
     "metadata": {},
     "output_type": "execute_result"
    }
   ],
   "source": [
    "handle.ask(\":DATA:POINts? VOLATILE\")"
   ]
  },
  {
   "cell_type": "markdown",
   "metadata": {},
   "source": [
    "Now do some waveform creation:"
   ]
  },
  {
   "cell_type": "code",
   "execution_count": 37,
   "metadata": {
    "collapsed": false
   },
   "outputs": [
    {
     "data": {
      "text/plain": [
       "[<matplotlib.lines.Line2D at 0x7f06b50b2d68>]"
      ]
     },
     "execution_count": 37,
     "metadata": {},
     "output_type": "execute_result"
    },
    {
     "data": {
      "image/png": "[encoded data removed]",
      "text/plain": [
       "<matplotlib.figure.Figure at 0x7f06b515f5c0>"
      ]
     },
     "metadata": {},
     "output_type": "display_data"
    }
   ],
   "source": [
    "N = 40\n",
    "x = numpy.array(range(40))\n",
    "data = 0.99*numpy.exp(-((x-20)/4)**2)\n",
    "plt.plot(data,\"o-\")"
   ]
  },
  {
   "cell_type": "code",
   "execution_count": 38,
   "metadata": {
    "collapsed": true
   },
   "outputs": [],
   "source": [
    "handle.write(\":DATA:POINTS VOLATILE,{}\".format(N))"
   ]
  },
  {
   "cell_type": "code",
   "execution_count": 39,
   "metadata": {
    "collapsed": false
   },
   "outputs": [
    {
     "data": {
      "text/plain": [
       "'40'"
      ]
     },
     "execution_count": 39,
     "metadata": {},
     "output_type": "execute_result"
    }
   ],
   "source": [
    "handle.ask(\":DATA:POINTS? VOLATILE\")"
   ]
  },
  {
   "cell_type": "code",
   "execution_count": 40,
   "metadata": {
    "collapsed": false
   },
   "outputs": [
    {
     "name": "stdout",
     "output_type": "stream",
     "text": [
      "1.374906442631438e-11, 1.5734970993571205e-10, 1.5891757746337554e-09, 1.4164169499382011e-08, 1.1140982297206653e-07, 7.7333745142214458e-07, 4.7372662182077183e-06, 2.560941922042758e-05, 0.00012217570604581277, 0.00051437893533329011, 0.0019111495948654321, 0.0062664182732108898, 0.018132482499846836, 0.046302916160119389, 0.10434523231624569, 0.20751527327958683, 0.36420064675972791, 0.56408499648361377, 0.77101277524069078, 0.93001893218534104, 0.98999999999999999, 0.93001893218534104, 0.77101277524069078, 0.56408499648361377, 0.36420064675972791, 0.20751527327958683, 0.10434523231624569, 0.046302916160119389, 0.018132482499846836, 0.0062664182732108898, 0.0019111495948654321, 0.00051437893533329011, 0.00012217570604581277, 2.560941922042758e-05, 4.7372662182077183e-06, 7.7333745142214458e-07, 1.1140982297206653e-07, 1.4164169499382011e-08, 1.5891757746337554e-09, 1.5734970993571205e-10\n"
     ]
    }
   ],
   "source": [
    "datastring = str(list(data))\n",
    "cleandatastring = datastring.lstrip(\"[\").rstrip(\"]\")\n",
    "print(cleandatastring)"
   ]
  },
  {
   "cell_type": "code",
   "execution_count": 41,
   "metadata": {
    "collapsed": false
   },
   "outputs": [],
   "source": [
    "handle.write(\":DATA VOLATILE, \" + cleandatastring)"
   ]
  },
  {
   "cell_type": "code",
   "execution_count": 54,
   "metadata": {
    "collapsed": true
   },
   "outputs": [],
   "source": [
    "from time import sleep"
   ]
  },
  {
   "cell_type": "code",
   "execution_count": 109,
   "metadata": {
    "collapsed": false
   },
   "outputs": [
    {
     "data": {
      "text/plain": [
       "37"
      ]
     },
     "execution_count": 109,
     "metadata": {},
     "output_type": "execute_result"
    }
   ],
   "source": [
    "# For some reason, it can only pull 38 values.\n",
    "wave = []\n",
    "for i in range(1,38):\n",
    "    #sleep(2)\n",
    "    wave.append( handle.ask(\":DATA:VALUE? VOLATILE,{}\".format(i)) )\n",
    "    \n",
    "len(wave)"
   ]
  },
  {
   "cell_type": "code",
   "execution_count": 110,
   "metadata": {
    "collapsed": false
   },
   "outputs": [
    {
     "data": {
      "text/plain": [
       "[<matplotlib.lines.Line2D at 0x7f06b4f7a9b0>]"
      ]
     },
     "execution_count": 110,
     "metadata": {},
     "output_type": "execute_result"
    },
    {
     "data": {
      "image/png": "[encoded data removed]",
      "text/plain": [
       "<matplotlib.figure.Figure at 0x7f06b506a898>"
      ]
     },
     "metadata": {},
     "output_type": "display_data"
    }
   ],
   "source": [
    "plt.plot(wave,\"o-\")"
   ]
  },
  {
   "cell_type": "markdown",
   "metadata": {},
   "source": [
    "## Now to reverse engineer the VCA response:"
   ]
  },
  {
   "cell_type": "code",
   "execution_count": 90,
   "metadata": {
    "collapsed": true
   },
   "outputs": [],
   "source": [
    "def VfromI(Intensity):\n",
    "    \"\"\"Implement the inverted response function. See data fit in google drive AOM folder.\"\"\"\n",
    "    V = (.0039757327 + (.0039757327 ** 2 + 4 *.0078826605 * Intensity) ** (1/2))/(2*.0078826605)\n",
    "    return V"
   ]
  },
  {
   "cell_type": "code",
   "execution_count": 99,
   "metadata": {
    "collapsed": false
   },
   "outputs": [],
   "source": [
    "voltages = VfromI(data)\n",
    "floats = voltages/voltages.max()\n",
    "floats\n",
    "#datastring = str(list(floats))\n",
    "datastring = numpy.array_str(floats,precision=4)\n",
    "#cleandatastring = datastring.lstrip(\"[\").rstrip(\"]\")\n",
    "#cleandatastring"
   ]
  },
  {
   "cell_type": "code",
   "execution_count": 101,
   "metadata": {
    "collapsed": false
   },
   "outputs": [
    {
     "data": {
      "text/plain": [
       "'0.044,0.044,0.044,0.044,0.044,0.044,0.0441,0.0446,0.0465,0.0533,0.0703,0.1028,0.1561,0.2346,0.3402,0.4702,0.6154,0.7604,0.8851,0.9699,1.,0.9699,0.8851,0.7604,0.6154,0.4702,0.3402,0.2346,0.1561,0.1028,0.0703,0.0533,0.0465,0.0446,0.0441,0.044,0.044,0.044,0.044,0.044'"
      ]
     },
     "execution_count": 101,
     "metadata": {},
     "output_type": "execute_result"
    }
   ],
   "source": [
    "commas = \",\".join(datastring.split())\n",
    "stripped = commas.strip(\"[]\")\n",
    "clean = stripped.lstrip(\",\").rstrip(\",\")\n",
    "clean"
   ]
  },
  {
   "cell_type": "code",
   "execution_count": 102,
   "metadata": {
    "collapsed": false
   },
   "outputs": [],
   "source": [
    "handle.write(\":DATA:POINTS VOLATILE,40\")"
   ]
  },
  {
   "cell_type": "code",
   "execution_count": 103,
   "metadata": {
    "collapsed": false
   },
   "outputs": [],
   "source": [
    "handle.write(\":DATA:VAL VOLATILE,\" + clean)"
   ]
  },
  {
   "cell_type": "code",
   "execution_count": 108,
   "metadata": {
    "collapsed": false
   },
   "outputs": [
    {
     "name": "stdout",
     "output_type": "stream",
     "text": [
      ":DATA:VAL VOLATILE,1,0.440039094584\n",
      ":DATA:VAL VOLATILE,2,0.440039408793\n",
      ":DATA:VAL VOLATILE,3,0.440042168317\n",
      ":DATA:VAL VOLATILE,4,0.44006350725\n",
      ":DATA:VAL VOLATILE,5,0.440208701257\n",
      ":DATA:VAL VOLATILE,6,0.441076194588\n",
      ":DATA:VAL VOLATILE,7,0.445588973592\n",
      ":DATA:VAL VOLATILE,8,0.465389704783\n",
      ":DATA:VAL VOLATILE,9,0.533196365475\n",
      ":DATA:VAL VOLATILE,10,0.702678058368\n",
      ":DATA:VAL VOLATILE,11,1.02842964629\n",
      ":DATA:VAL VOLATILE,12,1.5614279381\n",
      ":DATA:VAL VOLATILE,13,2.34596915899\n",
      ":DATA:VAL VOLATILE,14,3.40192670855\n",
      ":DATA:VAL VOLATILE,15,4.70189138573\n",
      ":DATA:VAL VOLATILE,16,6.15445627463\n",
      ":DATA:VAL VOLATILE,17,7.60374650767\n",
      ":DATA:VAL VOLATILE,18,8.85144231281\n",
      ":DATA:VAL VOLATILE,19,9.69925633809\n",
      ":DATA:VAL VOLATILE,20,10.0\n",
      ":DATA:VAL VOLATILE,21,9.69925633809\n",
      ":DATA:VAL VOLATILE,22,8.85144231281\n",
      ":DATA:VAL VOLATILE,23,7.60374650767\n",
      ":DATA:VAL VOLATILE,24,6.15445627463\n",
      ":DATA:VAL VOLATILE,25,4.70189138573\n",
      ":DATA:VAL VOLATILE,26,3.40192670855\n",
      ":DATA:VAL VOLATILE,27,2.34596915899\n",
      ":DATA:VAL VOLATILE,28,1.5614279381\n",
      ":DATA:VAL VOLATILE,29,1.02842964629\n",
      ":DATA:VAL VOLATILE,30,0.702678058368\n",
      ":DATA:VAL VOLATILE,31,0.533196365475\n",
      ":DATA:VAL VOLATILE,32,0.465389704783\n",
      ":DATA:VAL VOLATILE,33,0.445588973592\n",
      ":DATA:VAL VOLATILE,34,0.441076194588\n",
      ":DATA:VAL VOLATILE,35,0.440208701257\n",
      ":DATA:VAL VOLATILE,36,0.44006350725\n",
      ":DATA:VAL VOLATILE,37,0.440042168317\n",
      ":DATA:VAL VOLATILE,38,0.440039408793\n"
     ]
    }
   ],
   "source": [
    "for i in range(1,len(floats)-1):\n",
    "    command_string = \":DATA:VAL VOLATILE,\" + str(i) + \",\" + str(10*floats[i])\n",
    "    check_string = \":DATA:VAL? VOLATILE,\" + str(i)\n",
    "    handle.write(command_string)\n",
    "    print(command_string)\n",
    "    #print(rgdg.write(check_string))\n",
    "#print(rgdg.write(\":DATA:VAL ue? VOLATILE,0\"))\n",
    "#print(command_string)"
   ]
  },
  {
   "cell_type": "code",
   "execution_count": 116,
   "metadata": {
    "collapsed": false
   },
   "outputs": [
    {
     "data": {
      "text/plain": [
       "40"
      ]
     },
     "execution_count": 116,
     "metadata": {},
     "output_type": "execute_result"
    }
   ],
   "source": [
    "# Check what the instrument memory holds\n",
    "# For some reason, it can only pull 38 values.\n",
    "wave = []\n",
    "for i in range(1,41):\n",
    "    #sleep(2)\n",
    "    wave.append( handle.ask(\":DATA:VALUE? VOLATILE,{}\".format(i)) )\n",
    "    \n",
    "len(wave)"
   ]
  },
  {
   "cell_type": "code",
   "execution_count": 117,
   "metadata": {
    "collapsed": false
   },
   "outputs": [
    {
     "data": {
      "text/plain": [
       "[<matplotlib.lines.Line2D at 0x7f06b4e402b0>]"
      ]
     },
     "execution_count": 117,
     "metadata": {},
     "output_type": "execute_result"
    },
    {
     "data": {
      "image/png": "[encoded data removed]",
      "text/plain": [
       "<matplotlib.figure.Figure at 0x7f06b4f13eb8>"
      ]
     },
     "metadata": {},
     "output_type": "display_data"
    }
   ],
   "source": [
    "plt.plot(wave,\"o-\")"
   ]
  },
  {
   "cell_type": "markdown",
   "metadata": {},
   "source": [
    "## TODO: the VfromI function gives voltage, we need to scale this before uploading to Arb."
   ]
  },
  {
   "cell_type": "code",
   "execution_count": 118,
   "metadata": {
    "collapsed": true
   },
   "outputs": [],
   "source": [
    "handle.close()"
   ]
  }
 ],
 "metadata": {
  "kernelspec": {
   "display_name": "Python 3",
   "language": "python",
   "name": "python3"
  },
  "language_info": {
   "codemirror_mode": {
    "name": "ipython",
    "version": 3
   },
   "file_extension": ".py",
   "mimetype": "text/x-python",
   "name": "python",
   "nbconvert_exporter": "python",
   "pygments_lexer": "ipython3",
   "version": "3.4.3"
  }
 },
 "nbformat": 4,
 "nbformat_minor": 0
}
