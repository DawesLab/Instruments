{
 "cells": [
  {
   "cell_type": "markdown",
   "metadata": {},
   "source": [
    "# Frequency response scanner\n",
    "# Nov 2022\n",
    "Run a sweep with the DG4102 arb generator and measure Vpp on the scope."
   ]
  },
  {
   "cell_type": "code",
   "execution_count": 47,
   "metadata": {},
   "outputs": [],
   "source": [
    "import numpy as np\n",
    "import matplotlib.pyplot as plt\n",
    "import usbtmc\n",
    "import time\n",
    "%matplotlib inline"
   ]
  },
  {
   "cell_type": "code",
   "execution_count": 24,
   "metadata": {
    "scrolled": true
   },
   "outputs": [],
   "source": [
    "# this connects to the instrument directly using it's USB ID:\n",
    "rigol = usbtmc.Instrument(0x1AB1,0x0641)"
   ]
  },
  {
   "cell_type": "code",
   "execution_count": 21,
   "metadata": {
    "scrolled": true
   },
   "outputs": [],
   "source": [
    "# this connects to the instrument directly using it's USB ID:\n",
    "tek = usbtmc.Instrument(0x0699,0x0401)"
   ]
  },
  {
   "cell_type": "code",
   "execution_count": 25,
   "metadata": {},
   "outputs": [
    {
     "data": {
      "text/plain": [
       "'Rigol Technologies,DG4102,DG4B151400125,00.01.04'"
      ]
     },
     "execution_count": 25,
     "metadata": {},
     "output_type": "execute_result"
    }
   ],
   "source": [
    "# This will probably timeout the first time. Just run it again\n",
    "rigol.ask('*IDN?')"
   ]
  },
  {
   "cell_type": "code",
   "execution_count": 26,
   "metadata": {},
   "outputs": [
    {
     "data": {
      "text/plain": [
       "'TEKTRONIX,DPO4104,C012265,CF:91.1CT FV:v2.62 '"
      ]
     },
     "execution_count": 26,
     "metadata": {},
     "output_type": "execute_result"
    }
   ],
   "source": [
    "# This will probably timeout the first time. Just run it again\n",
    "tek.ask('*IDN?')"
   ]
  },
  {
   "cell_type": "code",
   "execution_count": 28,
   "metadata": {},
   "outputs": [],
   "source": [
    "# set sin source and amplitude\n",
    "rigol.write(\":SOURCE:APPLY:SIN 5e6,5,0,0\")"
   ]
  },
  {
   "cell_type": "code",
   "execution_count": 38,
   "metadata": {},
   "outputs": [],
   "source": [
    "# measure Vpp on scope\n",
    "tek.write(\"MEASUREMENT:MEAS1:TYPE PK2PK\")\n",
    "tek.write(\"MEASUREMENT:MEAS1:SOURCE1 CH1\")"
   ]
  },
  {
   "cell_type": "code",
   "execution_count": 39,
   "metadata": {},
   "outputs": [
    {
     "data": {
      "text/plain": [
       "'8.6000E-3'"
      ]
     },
     "execution_count": 39,
     "metadata": {},
     "output_type": "execute_result"
    }
   ],
   "source": [
    "# find the mean for measurement 1\n",
    "tek.ask(\"MEASUREMENT:MEAS1:MEAN?\")"
   ]
  },
  {
   "cell_type": "code",
   "execution_count": 51,
   "metadata": {},
   "outputs": [
    {
     "data": {
      "text/plain": [
       "'14.0000E-3'"
      ]
     },
     "execution_count": 51,
     "metadata": {},
     "output_type": "execute_result"
    }
   ],
   "source": [
    "# find the value for measurement 1\n",
    "tek.ask(\"MEASUREMENT:MEAS1:VALUE?\")"
   ]
  },
  {
   "cell_type": "code",
   "execution_count": 85,
   "metadata": {},
   "outputs": [],
   "source": [
    "freqlist = np.logspace(6,7.7,50)"
   ]
  },
  {
   "cell_type": "code",
   "execution_count": 106,
   "metadata": {},
   "outputs": [],
   "source": [
    "results = []\n",
    "for freq in freqlist:\n",
    "    rigol.write(\":SOURCE:APPLY:SIN {},5,0,0\".format(freq))\n",
    "    time.sleep(0.25)\n",
    "    result = tek.ask(\"MEASUREMENT:MEAS1:VALUE?\")\n",
    "    #print(result)\n",
    "    results.append(float(result))"
   ]
  },
  {
   "cell_type": "code",
   "execution_count": 107,
   "metadata": {},
   "outputs": [
    {
     "data": {
      "image/png": "[encoded data removed]",
      "text/plain": [
       "<Figure size 432x288 with 1 Axes>"
      ]
     },
     "metadata": {
      "needs_background": "light"
     },
     "output_type": "display_data"
    }
   ],
   "source": [
    "plt.plot(freqlist,results)\n",
    "ax = plt.gca()\n",
    "ax.set_xscale(\"log\")\n",
    "ax.set_yscale(\"log\")"
   ]
  },
  {
   "cell_type": "code",
   "execution_count": 101,
   "metadata": {},
   "outputs": [
    {
     "data": {
      "text/plain": [
       "[0.0151457,\n",
       " 0.0080864,\n",
       " 0.0060432,\n",
       " 0.0051108,\n",
       " 0.0051554,\n",
       " 0.0063889,\n",
       " 0.0065944,\n",
       " 0.0057486,\n",
       " 0.0053372,\n",
       " 0.0084686,\n",
       " 0.0072171,\n",
       " 0.0068086,\n",
       " 0.0065021,\n",
       " 0.0060511,\n",
       " 0.0059128,\n",
       " 0.0068782,\n",
       " 0.0066391,\n",
       " 0.0058598,\n",
       " 0.0067299,\n",
       " 0.0068825,\n",
       " 0.0070412,\n",
       " 0.0086603,\n",
       " 0.0081651,\n",
       " 0.0106825,\n",
       " 0.0089706,\n",
       " 0.0094853,\n",
       " 0.0103713,\n",
       " 0.0119857,\n",
       " 0.0129964,\n",
       " 0.0150491,\n",
       " 0.0147246,\n",
       " 0.0145811,\n",
       " 0.0160906,\n",
       " 0.0228226,\n",
       " 0.0368113,\n",
       " 0.0354028,\n",
       " 0.0271507,\n",
       " 0.0293754,\n",
       " 0.0287438,\n",
       " 0.0289719,\n",
       " 0.061643,\n",
       " 0.0696215,\n",
       " 0.0603054,\n",
       " 0.0391763,\n",
       " 0.0313882,\n",
       " 0.038347,\n",
       " 0.0393735,\n",
       " 0.0381434,\n",
       " 0.0368717,\n",
       " 0.0440179]"
      ]
     },
     "execution_count": 101,
     "metadata": {},
     "output_type": "execute_result"
    }
   ],
   "source": [
    "results"
   ]
  },
  {
   "cell_type": "code",
   "execution_count": null,
   "metadata": {},
   "outputs": [],
   "source": []
  }
 ],
 "metadata": {
  "kernelspec": {
   "display_name": "Python 3 (ipykernel)",
   "language": "python",
   "name": "python3"
  },
  "language_info": {
   "codemirror_mode": {
    "name": "ipython",
    "version": 3
   },
   "file_extension": ".py",
   "mimetype": "text/x-python",
   "name": "python",
   "nbconvert_exporter": "python",
   "pygments_lexer": "ipython3",
   "version": "3.9.7"
  }
 },
 "nbformat": 4,
 "nbformat_minor": 1
}
