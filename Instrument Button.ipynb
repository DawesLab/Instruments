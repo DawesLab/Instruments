{
 "cells": [
  {
   "cell_type": "code",
   "execution_count": 12,
   "metadata": {},
   "outputs": [],
   "source": [
    "import instrument\n",
    "import matplotlib.pyplot as plt"
   ]
  },
  {
   "cell_type": "code",
   "execution_count": 2,
   "metadata": {},
   "outputs": [
    {
     "name": "stdout",
     "output_type": "stream",
     "text": [
      "b'TEKTRONIX,TDS 1002C-EDU,C010128,CF:91.1CT FV:v25.04\\n'\n"
     ]
    }
   ],
   "source": [
    "inst = instrument.TekScope1000(\"/dev/usbtmc0\")"
   ]
  },
  {
   "cell_type": "code",
   "execution_count": 23,
   "metadata": {},
   "outputs": [
    {
     "data": {
      "application/vnd.jupyter.widget-view+json": {
       "model_id": "27abccbbef6b45cdaf0298b1e84fe1e2",
       "version_major": 2,
       "version_minor": 0
      },
      "text/plain": [
       "Button(description='top scope', style=ButtonStyle())"
      ]
     },
     "metadata": {},
     "output_type": "display_data"
    }
   ],
   "source": [
    "import ipywidgets as widgets\n",
    "from IPython.display import display\n",
    "button = widgets.Button(description=\"top scope\")\n",
    "display(button)\n",
    "\n",
    "def on_button_clicked(b):\n",
    "    \"\"\"TODO: pass in an instrument, so it can be re-used?\n",
    "    TODO: Handle variables without globals?\n",
    "    \"\"\"\n",
    "    global ch1, ch2, xdata\n",
    "    # print(\"Get!\")\n",
    "    # add smart parsing of available waveforms.\n",
    "    ch1 = inst.get_data(\"CH1\")\n",
    "    ch2 = inst.get_data(\"CH2\")\n",
    "    xdata = inst.get_xdata()\n",
    "    #ch1 = [1,2,3]\n",
    "    #xdata = inst.get_xdata()\n",
    "    return [xdata,ch1,ch2]\n",
    "\n",
    "button.on_click(on_button_clicked)\n"
   ]
  },
  {
   "cell_type": "code",
   "execution_count": 22,
   "metadata": {},
   "outputs": [
    {
     "data": {
      "text/plain": [
       "[<matplotlib.lines.Line2D at 0x7f40a8ed24e0>]"
      ]
     },
     "execution_count": 22,
     "metadata": {},
     "output_type": "execute_result"
    },
    {
     "data": {
      "image/png": "[encoded data removed]",
      "text/plain": [
       "<matplotlib.figure.Figure at 0x7f40a8f13780>"
      ]
     },
     "metadata": {
      "needs_background": "light"
     },
     "output_type": "display_data"
    }
   ],
   "source": [
    "plt.plot(xdata,ch2)"
   ]
  },
  {
   "cell_type": "code",
   "execution_count": null,
   "metadata": {},
   "outputs": [],
   "source": []
  }
 ],
 "metadata": {
  "anaconda-cloud": {},
  "kernelspec": {
   "display_name": "Python [conda root]",
   "language": "python",
   "name": "conda-root-py"
  },
  "language_info": {
   "codemirror_mode": {
    "name": "ipython",
    "version": 3
   },
   "file_extension": ".py",
   "mimetype": "text/x-python",
   "name": "python",
   "nbconvert_exporter": "python",
   "pygments_lexer": "ipython3",
   "version": "3.5.5"
  },
  "widgets": {
   "state": {
    "21ea345b6f08436fb9fbdf11f6f6d055": {
     "views": [
      {
       "cell_index": 2
      }
     ]
    }
   },
   "version": "1.2.0"
  }
 },
 "nbformat": 4,
 "nbformat_minor": 2
}
